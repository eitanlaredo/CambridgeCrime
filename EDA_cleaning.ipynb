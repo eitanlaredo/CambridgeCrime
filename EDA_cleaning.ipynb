{
 "cells": [
  {
   "cell_type": "code",
   "execution_count": 2,
   "metadata": {},
   "outputs": [
    {
     "name": "stdout",
     "output_type": "stream",
     "text": [
      "['File Number', 'Date of Report', 'Crime Date Time', 'Crime', 'Reporting Area', 'Neighborhood', 'Location']\n",
      "0                           100 OTIS ST, Cambridge, MA\n",
      "1                        400 RINDGE AVE, Cambridge, MA\n",
      "2                        400 RINDGE AVE, Cambridge, MA\n",
      "3                        0 NORUMBEGA ST, Cambridge, MA\n",
      "4                    FIFTH ST & GORE ST, Cambridge, MA\n",
      "                             ...                      \n",
      "95918               100 BISHOP ALLEN DR, Cambridge, MA\n",
      "95919    MASSACHUSETTS AVE & PEABODY ST, Cambridge, MA\n",
      "95920                     0 COLUMBIA ST, Cambridge, MA\n",
      "95921                       0 FOSTER PL, Cambridge, MA\n",
      "95922             200 Alewife Brook Pky, Cambridge, MA\n",
      "Name: Location, Length: 95923, dtype: object\n"
     ]
    }
   ],
   "source": [
    "'''\n",
    "Exploratory data analysis: \n",
    "This .jpynb removed null values, admin error data, and compiled latitude/longitude from street addresses\n",
    "using geopy library\n",
    "\n",
    "The final csv output of this file is \"cleaned_crime.csv\"\n",
    "The required input is \"Crime.csv\"\n",
    "The datset source can be found here: https://www.kaggle.com/datasets/melissamonfared/cambridge-crime-data-2009-2024?resource=download\n",
    "'''\n",
    "# Import libraries\n",
    "import pandas as pd\n",
    "from geopy.geocoders import Nominatim\n",
    "from geopy.extra.rate_limiter import RateLimiter\n",
    "\n",
    "# Read Crime.csv from Cambridge MA gov websitr\n",
    "crime_df = pd.read_csv('Crime.csv')\n",
    "\n",
    "# print all column names of the DataFrame\n",
    "print(crime_df.columns.tolist())\n",
    "print(crime_df['Location'])\n",
    "#['File Number', 'Date of Report', 'Crime Date Time', 'Crime', 'Reporting Area', 'Neighborhood', 'Location']\n"
   ]
  },
  {
   "cell_type": "code",
   "execution_count": 3,
   "metadata": {},
   "outputs": [
    {
     "name": "stdout",
     "output_type": "stream",
     "text": [
      "Unique crime types:\n",
      "['Threats' 'Auto Theft' 'Hit and Run' 'Larceny (Misc)' 'OUI'\n",
      " 'Aggravated Assault' 'Commercial Break' 'Street Robbery' 'Housebreak'\n",
      " 'Shoplifting' 'Forgery' 'Simple Assault' 'Warrant Arrest' 'Disorderly'\n",
      " 'Larceny from Building' 'Mal. Dest. Property' 'Larceny from MV'\n",
      " 'Trespassing' 'Larceny from Person' 'Missing Person'\n",
      " 'Larceny from Residence' 'Harassment' 'Liquor Possession/Sale'\n",
      " 'Flim Flam' 'Phone Calls' 'Larceny of Bicycle' 'Annoying & Accosting'\n",
      " 'Drugs' 'Indecent Exposure' 'Larceny of Plate' 'Sex Offender Violation'\n",
      " 'Counterfeiting' 'Rec. Stol. Property' 'Commercial Robbery' 'Kidnapping'\n",
      " 'Drinking in Public' 'Larceny of Services' 'Peeping & Spying' 'Homicide'\n",
      " 'Extortion/Blackmail' 'Stalking' 'Weapon Violations' 'Prostitution'\n",
      " 'Arson' 'Embezzlement' 'Admin Error' 'Violation of R.O.'\n",
      " 'Violation of H.O.' 'Domestic Dispute' 'Gambling' 'Accident'\n",
      " 'Noise Complaint' 'Suspicious Package' 'Taxi Violation']\n"
     ]
    },
    {
     "data": {
      "text/plain": [
       "(54,)"
      ]
     },
     "execution_count": 3,
     "metadata": {},
     "output_type": "execute_result"
    }
   ],
   "source": [
    "# Check for unique crime types - these will be the possible variables\n",
    "unique_crime_types = crime_df['Crime'].unique()\n",
    "\n",
    "print(\"Unique crime types:\")\n",
    "print(unique_crime_types)\n",
    "unique_crime_types.shape"
   ]
  },
  {
   "cell_type": "markdown",
   "metadata": {},
   "source": [
    "# Cleaning null values and \"admin error\"s"
   ]
  },
  {
   "cell_type": "code",
   "execution_count": 4,
   "metadata": {},
   "outputs": [
    {
     "name": "stdout",
     "output_type": "stream",
     "text": [
      "Number of rows with at least one null value: 311\n",
      "the size of total datapoints is (95923, 7)\n"
     ]
    }
   ],
   "source": [
    "# Sum the number of rows with at least 1 null value\n",
    "null_values = crime_df.isnull().any()\n",
    "\n",
    "rows_with_nulls = crime_df.isnull().any(axis=1).sum()\n",
    "print(f\"Number of rows with at least one null value: {rows_with_nulls}\")\n",
    "# 311 is insignificant: remove from dataframe \n",
    "print(f\"the size of total datapoints is {crime_df.shape}\")\n"
   ]
  },
  {
   "cell_type": "code",
   "execution_count": 5,
   "metadata": {},
   "outputs": [
    {
     "name": "stdout",
     "output_type": "stream",
     "text": [
      "Number of rows with at least one null value is now: 0\n"
     ]
    }
   ],
   "source": [
    "crime_df = crime_df.dropna()\n",
    "rows_with_nulls = crime_df.isnull().any(axis=1).sum()\n",
    "print(f\"Number of rows with at least one null value is now: {rows_with_nulls}\")"
   ]
  },
  {
   "cell_type": "code",
   "execution_count": 6,
   "metadata": {},
   "outputs": [],
   "source": [
    "# Remove all Crimes that are \"Admin Error\" and check crime_df again\n",
    "crime_df = crime_df[crime_df['Crime'] != 'Admin Error']\n"
   ]
  },
  {
   "cell_type": "markdown",
   "metadata": {},
   "source": [
    "# Generating latitude and longitude from location"
   ]
  },
  {
   "cell_type": "code",
   "execution_count": 7,
   "metadata": {},
   "outputs": [],
   "source": [
    "'''This block uses geopy to generate lat/long pairs from the street addresses supplied by crime.csv'''\n",
    "run = 0 #if function to stop geopy requests from going off\n",
    "if run == 1:\n",
    "    # Initialize geolocater\n",
    "    geolocator = Nominatim(user_agent=\"eitan\")\n",
    "\n",
    "    # Set rate limit\n",
    "    geocode = RateLimiter(geolocator.geocode, min_delay_seconds=3)\n",
    "\n",
    "    # Function to get latitude and longitude\n",
    "    def get_lat_long(address):\n",
    "        '''\n",
    "        get_lat_long takes a street address and outputs latitude and longitude as a tuple\n",
    "        input: a street address as a string\n",
    "        output: two floats, lat and longitude\n",
    "        '''\n",
    "        # Added printout to confirm function is still running\n",
    "        print(f\"Processing address: {address}\")\n",
    "        location = geocode(address)\n",
    "        if location:\n",
    "            return (location.latitude, location.longitude)\n",
    "        else:\n",
    "            return (None, None)\n",
    "\n",
    "    # Remove any duplicate addresses to speed up lat/long process and then merge in post\n",
    "    unique_locations = crime_df[['Location']].drop_duplicates()\n",
    "\n",
    "    # Apply the geocoding function to the 'Location' column\n",
    "    unique_locations['Coordinates'] = unique_locations['Location'].apply(get_lat_long)\n",
    "    unique_locations[['Latitude', 'Longitude']] = pd.DataFrame(unique_locations['Coordinates'].tolist(), index=unique_locations.index)\n",
    "\n",
    "\n",
    "    unique_locations.to_csv('Crime_with_coordinates.csv', index=False)"
   ]
  },
  {
   "cell_type": "code",
   "execution_count": 8,
   "metadata": {},
   "outputs": [
    {
     "data": {
      "text/plain": [
       "(5144, 4)"
      ]
     },
     "execution_count": 8,
     "metadata": {},
     "output_type": "execute_result"
    }
   ],
   "source": [
    "coords_df = pd.read_csv('Crime_with_coordinates.csv')\n",
    "coords_df.shape\n",
    "# There are ~5000 unique locations from the crime.csv data set. "
   ]
  },
  {
   "cell_type": "code",
   "execution_count": 14,
   "metadata": {},
   "outputs": [
    {
     "data": {
      "text/html": [
       "<div>\n",
       "<style scoped>\n",
       "    .dataframe tbody tr th:only-of-type {\n",
       "        vertical-align: middle;\n",
       "    }\n",
       "\n",
       "    .dataframe tbody tr th {\n",
       "        vertical-align: top;\n",
       "    }\n",
       "\n",
       "    .dataframe thead th {\n",
       "        text-align: right;\n",
       "    }\n",
       "</style>\n",
       "<table border=\"1\" class=\"dataframe\">\n",
       "  <thead>\n",
       "    <tr style=\"text-align: right;\">\n",
       "      <th></th>\n",
       "      <th>File Number</th>\n",
       "      <th>Date of Report</th>\n",
       "      <th>Crime Date Time</th>\n",
       "      <th>Crime</th>\n",
       "      <th>Reporting Area</th>\n",
       "      <th>Neighborhood</th>\n",
       "      <th>Location</th>\n",
       "      <th>Latitude</th>\n",
       "      <th>Longitude</th>\n",
       "    </tr>\n",
       "  </thead>\n",
       "  <tbody>\n",
       "    <tr>\n",
       "      <th>0</th>\n",
       "      <td>2009-01323</td>\n",
       "      <td>02/21/2009 09:53:00 AM</td>\n",
       "      <td>02/21/2009 09:20 - 09:30</td>\n",
       "      <td>Threats</td>\n",
       "      <td>105.0</td>\n",
       "      <td>East Cambridge</td>\n",
       "      <td>100 OTIS ST, Cambridge, MA</td>\n",
       "      <td>42.370427</td>\n",
       "      <td>-71.082645</td>\n",
       "    </tr>\n",
       "    <tr>\n",
       "      <th>1</th>\n",
       "      <td>2009-01324</td>\n",
       "      <td>02/21/2009 09:59:00 AM</td>\n",
       "      <td>02/20/2009 22:30 - 02/21/2009 10:00</td>\n",
       "      <td>Auto Theft</td>\n",
       "      <td>1109.0</td>\n",
       "      <td>North Cambridge</td>\n",
       "      <td>400 RINDGE AVE, Cambridge, MA</td>\n",
       "      <td>42.393764</td>\n",
       "      <td>-71.139481</td>\n",
       "    </tr>\n",
       "    <tr>\n",
       "      <th>2</th>\n",
       "      <td>2009-01327</td>\n",
       "      <td>02/21/2009 12:32:00 PM</td>\n",
       "      <td>02/19/2009 21:00 - 02/21/2009 12:00</td>\n",
       "      <td>Hit and Run</td>\n",
       "      <td>1109.0</td>\n",
       "      <td>North Cambridge</td>\n",
       "      <td>400 RINDGE AVE, Cambridge, MA</td>\n",
       "      <td>42.393764</td>\n",
       "      <td>-71.139481</td>\n",
       "    </tr>\n",
       "    <tr>\n",
       "      <th>3</th>\n",
       "      <td>2009-01331</td>\n",
       "      <td>02/21/2009 03:05:00 PM</td>\n",
       "      <td>02/21/2009 15:00 - 15:10</td>\n",
       "      <td>Larceny (Misc)</td>\n",
       "      <td>1303.0</td>\n",
       "      <td>Strawberry Hill</td>\n",
       "      <td>0 NORUMBEGA ST, Cambridge, MA</td>\n",
       "      <td>42.375145</td>\n",
       "      <td>-71.153088</td>\n",
       "    </tr>\n",
       "    <tr>\n",
       "      <th>4</th>\n",
       "      <td>2009-01346</td>\n",
       "      <td>02/22/2009 05:02:00 AM</td>\n",
       "      <td>02/22/2009 05:02</td>\n",
       "      <td>OUI</td>\n",
       "      <td>105.0</td>\n",
       "      <td>East Cambridge</td>\n",
       "      <td>FIFTH ST &amp; GORE ST, Cambridge, MA</td>\n",
       "      <td>NaN</td>\n",
       "      <td>NaN</td>\n",
       "    </tr>\n",
       "    <tr>\n",
       "      <th>...</th>\n",
       "      <td>...</td>\n",
       "      <td>...</td>\n",
       "      <td>...</td>\n",
       "      <td>...</td>\n",
       "      <td>...</td>\n",
       "      <td>...</td>\n",
       "      <td>...</td>\n",
       "      <td>...</td>\n",
       "      <td>...</td>\n",
       "    </tr>\n",
       "    <tr>\n",
       "      <th>92750</th>\n",
       "      <td>2024-03755</td>\n",
       "      <td>05/07/2024 01:13:00 PM</td>\n",
       "      <td>05/04/2024 12:00 - 18:00</td>\n",
       "      <td>Larceny from MV</td>\n",
       "      <td>411.0</td>\n",
       "      <td>Area 4</td>\n",
       "      <td>100 BISHOP ALLEN DR, Cambridge, MA</td>\n",
       "      <td>42.365860</td>\n",
       "      <td>-71.102518</td>\n",
       "    </tr>\n",
       "    <tr>\n",
       "      <th>92751</th>\n",
       "      <td>2024-03756</td>\n",
       "      <td>05/07/2024 02:41:00 PM</td>\n",
       "      <td>05/07/2024 14:40 - 14:41</td>\n",
       "      <td>Accident</td>\n",
       "      <td>611.0</td>\n",
       "      <td>Mid-Cambridge</td>\n",
       "      <td>MASSACHUSETTS AVE &amp; PEABODY ST, Cambridge, MA</td>\n",
       "      <td>42.374898</td>\n",
       "      <td>-71.118521</td>\n",
       "    </tr>\n",
       "    <tr>\n",
       "      <th>92752</th>\n",
       "      <td>2024-03777</td>\n",
       "      <td>05/07/2024 08:13:00 PM</td>\n",
       "      <td>05/07/2024 15:00 - 19:15</td>\n",
       "      <td>Larceny of Bicycle</td>\n",
       "      <td>411.0</td>\n",
       "      <td>Area 4</td>\n",
       "      <td>0 COLUMBIA ST, Cambridge, MA</td>\n",
       "      <td>42.370400</td>\n",
       "      <td>-71.095941</td>\n",
       "    </tr>\n",
       "    <tr>\n",
       "      <th>92753</th>\n",
       "      <td>2024-03806</td>\n",
       "      <td>05/08/2024 04:09:00 PM</td>\n",
       "      <td>05/07/2024 04:00 - 04:05</td>\n",
       "      <td>Larceny from MV</td>\n",
       "      <td>1005.0</td>\n",
       "      <td>West Cambridge</td>\n",
       "      <td>0 FOSTER PL, Cambridge, MA</td>\n",
       "      <td>42.375982</td>\n",
       "      <td>-71.129503</td>\n",
       "    </tr>\n",
       "    <tr>\n",
       "      <th>92754</th>\n",
       "      <td>2024-03824</td>\n",
       "      <td>05/09/2024 10:23:00 AM</td>\n",
       "      <td>05/05/2024 11:30 - 13:00</td>\n",
       "      <td>Hit and Run</td>\n",
       "      <td>1204.0</td>\n",
       "      <td>Highlands</td>\n",
       "      <td>200 Alewife Brook Pky, Cambridge, MA</td>\n",
       "      <td>42.389116</td>\n",
       "      <td>-71.141751</td>\n",
       "    </tr>\n",
       "  </tbody>\n",
       "</table>\n",
       "<p>92755 rows × 9 columns</p>\n",
       "</div>"
      ],
      "text/plain": [
       "      File Number          Date of Report  \\\n",
       "0      2009-01323  02/21/2009 09:53:00 AM   \n",
       "1      2009-01324  02/21/2009 09:59:00 AM   \n",
       "2      2009-01327  02/21/2009 12:32:00 PM   \n",
       "3      2009-01331  02/21/2009 03:05:00 PM   \n",
       "4      2009-01346  02/22/2009 05:02:00 AM   \n",
       "...           ...                     ...   \n",
       "92750  2024-03755  05/07/2024 01:13:00 PM   \n",
       "92751  2024-03756  05/07/2024 02:41:00 PM   \n",
       "92752  2024-03777  05/07/2024 08:13:00 PM   \n",
       "92753  2024-03806  05/08/2024 04:09:00 PM   \n",
       "92754  2024-03824  05/09/2024 10:23:00 AM   \n",
       "\n",
       "                           Crime Date Time               Crime  \\\n",
       "0                 02/21/2009 09:20 - 09:30             Threats   \n",
       "1      02/20/2009 22:30 - 02/21/2009 10:00          Auto Theft   \n",
       "2      02/19/2009 21:00 - 02/21/2009 12:00         Hit and Run   \n",
       "3                 02/21/2009 15:00 - 15:10      Larceny (Misc)   \n",
       "4                         02/22/2009 05:02                 OUI   \n",
       "...                                    ...                 ...   \n",
       "92750             05/04/2024 12:00 - 18:00     Larceny from MV   \n",
       "92751             05/07/2024 14:40 - 14:41            Accident   \n",
       "92752             05/07/2024 15:00 - 19:15  Larceny of Bicycle   \n",
       "92753             05/07/2024 04:00 - 04:05     Larceny from MV   \n",
       "92754             05/05/2024 11:30 - 13:00         Hit and Run   \n",
       "\n",
       "       Reporting Area     Neighborhood  \\\n",
       "0               105.0   East Cambridge   \n",
       "1              1109.0  North Cambridge   \n",
       "2              1109.0  North Cambridge   \n",
       "3              1303.0  Strawberry Hill   \n",
       "4               105.0   East Cambridge   \n",
       "...               ...              ...   \n",
       "92750           411.0           Area 4   \n",
       "92751           611.0    Mid-Cambridge   \n",
       "92752           411.0           Area 4   \n",
       "92753          1005.0   West Cambridge   \n",
       "92754          1204.0        Highlands   \n",
       "\n",
       "                                            Location   Latitude  Longitude  \n",
       "0                         100 OTIS ST, Cambridge, MA  42.370427 -71.082645  \n",
       "1                      400 RINDGE AVE, Cambridge, MA  42.393764 -71.139481  \n",
       "2                      400 RINDGE AVE, Cambridge, MA  42.393764 -71.139481  \n",
       "3                      0 NORUMBEGA ST, Cambridge, MA  42.375145 -71.153088  \n",
       "4                  FIFTH ST & GORE ST, Cambridge, MA        NaN        NaN  \n",
       "...                                              ...        ...        ...  \n",
       "92750             100 BISHOP ALLEN DR, Cambridge, MA  42.365860 -71.102518  \n",
       "92751  MASSACHUSETTS AVE & PEABODY ST, Cambridge, MA  42.374898 -71.118521  \n",
       "92752                   0 COLUMBIA ST, Cambridge, MA  42.370400 -71.095941  \n",
       "92753                     0 FOSTER PL, Cambridge, MA  42.375982 -71.129503  \n",
       "92754           200 Alewife Brook Pky, Cambridge, MA  42.389116 -71.141751  \n",
       "\n",
       "[92755 rows x 9 columns]"
      ]
     },
     "execution_count": 14,
     "metadata": {},
     "output_type": "execute_result"
    }
   ],
   "source": [
    "# Map lat and longitude to each address for crime_df using merge\n",
    "\n",
    "crime_with_coords_df = pd.read_csv('Crime_with_coordinates.csv')\n",
    "merged_df = pd.merge(crime_df, crime_with_coords_df[['Location', 'Latitude', 'Longitude']], on='Location', how='left')\n",
    "\n",
    "merged_df.to_csv('cleaned_crime.csv', index=False)\n",
    "merged_df\n",
    "# cleaned_crime.csv is now the output csv to work with"
   ]
  },
  {
   "cell_type": "code",
   "execution_count": 19,
   "metadata": {},
   "outputs": [
    {
     "name": "stdout",
     "output_type": "stream",
     "text": [
      "All addresses end with 'Cambridge, MA'.\n",
      "Addresses not ending with 'MA':\n",
      "Empty DataFrame\n",
      "Columns: [File Number, Date of Report, Crime Date Time, Crime, Reporting Area, Neighborhood, Location]\n",
      "Index: []\n"
     ]
    }
   ],
   "source": [
    "# Check if there's any Locations not in Cambridge (check if all values in the 'Location' column end with \"'Cambridge, MA'\")\n",
    "all_end_with_MA = crime_df['Location'].str.endswith('Cambridge, MA').all()\n",
    "\n",
    "# Print the result\n",
    "if all_end_with_MA:\n",
    "    print(\"All addresses end with 'Cambridge, MA'.\")\n",
    "else:\n",
    "    print(\"Not all addresses end with 'Cambridge, MA'.\")\n",
    "\n",
    "# Optionally, print the rows that do not end with 'MA'\n",
    "addresses_not_ending_with_MA = crime_df[~crime_df['Location'].str.endswith('MA')]\n",
    "print(\"Addresses not ending with 'MA':\")\n",
    "print(addresses_not_ending_with_MA)"
   ]
  },
  {
   "cell_type": "code",
   "execution_count": 20,
   "metadata": {},
   "outputs": [
    {
     "name": "stdout",
     "output_type": "stream",
     "text": [
      "Number of rows with at least one null value: 12345\n",
      "5079\n"
     ]
    }
   ],
   "source": [
    "# Sum the number of rows with at least 1 null value\n",
    "null_values = merged_df.isnull().any()\n",
    "\n",
    "rows_with_nulls = merged_df.isnull().any(axis=1).sum()\n",
    "print(f\"Number of rows with at least one null value: {rows_with_nulls}\")\n",
    "\n",
    "unique_2 = merged_df[['Location']].drop_duplicates()\n",
    "print(unique_2.size)"
   ]
  }
 ],
 "metadata": {
  "kernelspec": {
   "display_name": "Python 3",
   "language": "python",
   "name": "python3"
  },
  "language_info": {
   "codemirror_mode": {
    "name": "ipython",
    "version": 3
   },
   "file_extension": ".py",
   "mimetype": "text/x-python",
   "name": "python",
   "nbconvert_exporter": "python",
   "pygments_lexer": "ipython3",
   "version": "3.11.1"
  },
  "orig_nbformat": 4
 },
 "nbformat": 4,
 "nbformat_minor": 2
}
