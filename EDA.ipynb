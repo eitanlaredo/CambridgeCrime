{
 "cells": [
  {
   "cell_type": "code",
   "execution_count": 2,
   "metadata": {},
   "outputs": [
    {
     "name": "stdout",
     "output_type": "stream",
     "text": [
      "['File Number', 'Date of Report', 'Crime Date Time', 'Crime', 'Reporting Area', 'Neighborhood', 'Location']\n",
      "0                           100 OTIS ST, Cambridge, MA\n",
      "1                        400 RINDGE AVE, Cambridge, MA\n",
      "2                        400 RINDGE AVE, Cambridge, MA\n",
      "3                        0 NORUMBEGA ST, Cambridge, MA\n",
      "4                    FIFTH ST & GORE ST, Cambridge, MA\n",
      "                             ...                      \n",
      "95918               100 BISHOP ALLEN DR, Cambridge, MA\n",
      "95919    MASSACHUSETTS AVE & PEABODY ST, Cambridge, MA\n",
      "95920                     0 COLUMBIA ST, Cambridge, MA\n",
      "95921                       0 FOSTER PL, Cambridge, MA\n",
      "95922             200 Alewife Brook Pky, Cambridge, MA\n",
      "Name: Location, Length: 95923, dtype: object\n"
     ]
    }
   ],
   "source": [
    "import pandas as pd\n",
    "# from app import * \n",
    "from geopy.geocoders import Nominatim\n",
    "from geopy.extra.rate_limiter import RateLimiter\n",
    "\n",
    "crime_df = pd.read_csv('Crime.csv')\n",
    "\n",
    "# display the first few rows of the DataFrame to verify it has been loaded correctly\n",
    "# print(crime_df.head())\n",
    "\n",
    "# print all column names of the DataFrame\n",
    "print(crime_df.columns.tolist())\n",
    "print(crime_df['Location'])\n",
    "#['File Number', 'Date of Report', 'Crime Date Time', 'Crime', 'Reporting Area', 'Neighborhood', 'Location']\n"
   ]
  },
  {
   "cell_type": "code",
   "execution_count": 3,
   "metadata": {},
   "outputs": [
    {
     "name": "stdout",
     "output_type": "stream",
     "text": [
      "Unique crime types:\n",
      "['Threats' 'Auto Theft' 'Hit and Run' 'Larceny (Misc)' 'OUI'\n",
      " 'Aggravated Assault' 'Commercial Break' 'Street Robbery' 'Housebreak'\n",
      " 'Shoplifting' 'Forgery' 'Simple Assault' 'Warrant Arrest' 'Disorderly'\n",
      " 'Larceny from Building' 'Mal. Dest. Property' 'Larceny from MV'\n",
      " 'Trespassing' 'Larceny from Person' 'Missing Person'\n",
      " 'Larceny from Residence' 'Harassment' 'Liquor Possession/Sale'\n",
      " 'Flim Flam' 'Phone Calls' 'Larceny of Bicycle' 'Annoying & Accosting'\n",
      " 'Drugs' 'Indecent Exposure' 'Larceny of Plate' 'Sex Offender Violation'\n",
      " 'Counterfeiting' 'Rec. Stol. Property' 'Commercial Robbery' 'Kidnapping'\n",
      " 'Drinking in Public' 'Larceny of Services' 'Peeping & Spying' 'Homicide'\n",
      " 'Extortion/Blackmail' 'Stalking' 'Weapon Violations' 'Prostitution'\n",
      " 'Arson' 'Embezzlement' 'Admin Error' 'Violation of R.O.'\n",
      " 'Violation of H.O.' 'Domestic Dispute' 'Gambling' 'Accident'\n",
      " 'Noise Complaint' 'Suspicious Package' 'Taxi Violation']\n"
     ]
    },
    {
     "data": {
      "text/plain": [
       "(54,)"
      ]
     },
     "execution_count": 3,
     "metadata": {},
     "output_type": "execute_result"
    }
   ],
   "source": [
    "# Check for unique crime types - these will be the possible variables\n",
    "unique_crime_types = crime_df['Crime'].unique()\n",
    "\n",
    "print(\"Unique crime types:\")\n",
    "print(unique_crime_types)\n",
    "unique_crime_types.shape"
   ]
  },
  {
   "cell_type": "code",
   "execution_count": 4,
   "metadata": {},
   "outputs": [
    {
     "name": "stdout",
     "output_type": "stream",
     "text": [
      "File Number        False\n",
      "Date of Report     False\n",
      "Crime Date Time     True\n",
      "Crime              False\n",
      "Reporting Area      True\n",
      "Neighborhood        True\n",
      "Location            True\n",
      "dtype: bool\n"
     ]
    }
   ],
   "source": [
    "# Check for null values\n",
    "null_values = crime_df.isnull().any()\n",
    "\n",
    "# Print the columns that contain null values\n",
    "print(null_values)"
   ]
  },
  {
   "cell_type": "code",
   "execution_count": 5,
   "metadata": {},
   "outputs": [
    {
     "name": "stdout",
     "output_type": "stream",
     "text": [
      "      File Number          Date of Report Crime Date Time        Crime  \\\n",
      "3027   2009-05832  08/11/2009 03:56:00 PM             NaN  Admin Error   \n",
      "8683   2010-04558  06/22/2010 09:15:00 PM             NaN  Admin Error   \n",
      "10625  2010-06636  08/30/2010 10:39:00 AM             NaN  Admin Error   \n",
      "11802  2010-09640  12/13/2010 12:56:00 PM             NaN  Admin Error   \n",
      "13049  2010-09694  12/15/2010 09:44:00 AM             NaN  Admin Error   \n",
      "14776  2011-01450  02/28/2011 05:25:00 PM             NaN  Admin Error   \n",
      "15418  2011-06075  08/09/2011 08:46:00 AM             NaN  Admin Error   \n",
      "17106  2011-07555  09/27/2011 06:01:00 PM             NaN  Admin Error   \n",
      "17931  2011-09672  12/08/2011 08:58:00 AM             NaN  Admin Error   \n",
      "19009  2011-09800  12/12/2011 08:16:00 PM             NaN  Admin Error   \n",
      "19017  2011-09862  12/14/2011 09:35:00 PM             NaN  Admin Error   \n",
      "\n",
      "       Reporting Area      Neighborhood                               Location  \n",
      "3027            108.0    East Cambridge            100 SIXTH ST, Cambridge, MA  \n",
      "8683            502.0     Cambridgeport  ALBANY ST & PACIFIC ST, Cambridge, MA  \n",
      "10625           304.0  Inman/Harrington        900 CAMBRIDGE ST, Cambridge, MA  \n",
      "11802           305.0  Inman/Harrington         300 COLUMBIA ST, Cambridge, MA  \n",
      "13049           605.0     Mid-Cambridge       1600 CAMBRIDGE ST, Cambridge, MA  \n",
      "14776           203.0               MIT             0 VASSAR ST, Cambridge, MA  \n",
      "15418             NaN               NaN                                    NaN  \n",
      "17106           305.0  Inman/Harrington          300 NORFOLK ST, Cambridge, MA  \n",
      "17931           606.0     Mid-Cambridge            500 BROADWAY, Cambridge, MA  \n",
      "19009          1002.0    West Cambridge            0 BRATTLE SQ, Cambridge, MA  \n",
      "19017          1302.0   Strawberry Hill          100 CUSHING ST, Cambridge, MA  \n"
     ]
    }
   ],
   "source": [
    "# First investigate 'Crime Date Time'\n",
    "\n",
    "# Filter rows where 'Crime Date Time' column has null values\n",
    "null_crime_date_time = crime_df[crime_df['Crime Date Time'].isnull()]\n",
    "\n",
    "# Display the rows with null values in 'Crime Date Time' column\n",
    "print(null_crime_date_time)"
   ]
  },
  {
   "cell_type": "code",
   "execution_count": 6,
   "metadata": {},
   "outputs": [
    {
     "name": "stdout",
     "output_type": "stream",
     "text": [
      "Empty DataFrame\n",
      "Columns: [File Number, Date of Report, Crime Date Time, Crime, Reporting Area, Neighborhood, Location]\n",
      "Index: []\n"
     ]
    }
   ],
   "source": [
    "# Remove all Crimes that are \"Admin Error\" and check crime_df again\n",
    "crime_df = crime_df[crime_df['Crime'] != 'Admin Error']\n",
    "null_crime_date_time = crime_df[crime_df['Crime Date Time'].isnull()]\n",
    "print(null_crime_date_time)\n"
   ]
  },
  {
   "cell_type": "code",
   "execution_count": 7,
   "metadata": {},
   "outputs": [
    {
     "name": "stdout",
     "output_type": "stream",
     "text": [
      "      File Number          Date of Report  \\\n",
      "19237  2011-10223  12/27/2011 04:26:00 PM   \n",
      "93844  2024-01078  02/09/2024 09:51:00 AM   \n",
      "93870  2024-03091  04/16/2024 08:59:00 PM   \n",
      "95355  2024-03011  04/14/2024 11:55:00 AM   \n",
      "\n",
      "                           Crime Date Time                Crime  \\\n",
      "19237             12/23/2011 00:01 - 02:00  Larceny from Person   \n",
      "93844             02/09/2024 09:20 - 09:50       Warrant Arrest   \n",
      "93870             04/16/2024 14:29 - 14:30          Hit and Run   \n",
      "95355  04/13/2024 18:00 - 04/14/2024 11:45  Mal. Dest. Property   \n",
      "\n",
      "       Reporting Area Neighborhood  \\\n",
      "19237             NaN          NaN   \n",
      "93844             NaN          NaN   \n",
      "93870             NaN          NaN   \n",
      "95355             NaN          NaN   \n",
      "\n",
      "                                                Location  \n",
      "19237  Massachusetts Ave & Massachusetts Ave, Cambrid...  \n",
      "93844                 GREEN ST & PEARL ST, Cambridge, MA  \n",
      "93870              1900 MASSACHUSETTS AVE, Cambridge, MA  \n",
      "95355                       100 CHURCH ST, Cambridge, MA  \n"
     ]
    }
   ],
   "source": [
    "# Now chekc null values in Reporting Area\n",
    "\n",
    "# Filter rows where 'Crime Date Time' column has null values\n",
    "null_reporting_area = crime_df[crime_df['Reporting Area'].isnull()]\n",
    "\n",
    "# Display the rows with null values in 'Crime Date Time' column\n",
    "print(null_reporting_area)"
   ]
  },
  {
   "cell_type": "code",
   "execution_count": 8,
   "metadata": {},
   "outputs": [
    {
     "name": "stdout",
     "output_type": "stream",
     "text": [
      "      File Number          Date of Report  \\\n",
      "19237  2011-10223  12/27/2011 04:26:00 PM   \n",
      "93844  2024-01078  02/09/2024 09:51:00 AM   \n",
      "93870  2024-03091  04/16/2024 08:59:00 PM   \n",
      "95355  2024-03011  04/14/2024 11:55:00 AM   \n",
      "\n",
      "                           Crime Date Time                Crime  \\\n",
      "19237             12/23/2011 00:01 - 02:00  Larceny from Person   \n",
      "93844             02/09/2024 09:20 - 09:50       Warrant Arrest   \n",
      "93870             04/16/2024 14:29 - 14:30          Hit and Run   \n",
      "95355  04/13/2024 18:00 - 04/14/2024 11:45  Mal. Dest. Property   \n",
      "\n",
      "       Reporting Area Neighborhood  \\\n",
      "19237             NaN          NaN   \n",
      "93844             NaN          NaN   \n",
      "93870             NaN          NaN   \n",
      "95355             NaN          NaN   \n",
      "\n",
      "                                                Location  \n",
      "19237  Massachusetts Ave & Massachusetts Ave, Cambrid...  \n",
      "93844                 GREEN ST & PEARL ST, Cambridge, MA  \n",
      "93870              1900 MASSACHUSETTS AVE, Cambridge, MA  \n",
      "95355                       100 CHURCH ST, Cambridge, MA  \n"
     ]
    }
   ],
   "source": [
    "# Now check null values in Neighborhood\n",
    "\n",
    "# Filter rows where 'Crime Date Time' column has null values\n",
    "null_neighborhood_area = crime_df[crime_df['Neighborhood'].isnull()]\n",
    "\n",
    "# Display the rows with null values in 'Crime Date Time' column\n",
    "print(null_neighborhood_area)"
   ]
  },
  {
   "cell_type": "code",
   "execution_count": 9,
   "metadata": {},
   "outputs": [
    {
     "name": "stdout",
     "output_type": "stream",
     "text": [
      "  File Number          Date of Report                      Crime Date Time  \\\n",
      "0  2009-01323  02/21/2009 09:53:00 AM             02/21/2009 09:20 - 09:30   \n",
      "1  2009-01324  02/21/2009 09:59:00 AM  02/20/2009 22:30 - 02/21/2009 10:00   \n",
      "2  2009-01327  02/21/2009 12:32:00 PM  02/19/2009 21:00 - 02/21/2009 12:00   \n",
      "3  2009-01331  02/21/2009 03:05:00 PM             02/21/2009 15:00 - 15:10   \n",
      "4  2009-01346  02/22/2009 05:02:00 AM                     02/22/2009 05:02   \n",
      "\n",
      "            Crime  Reporting Area     Neighborhood  \\\n",
      "0         Threats           105.0   East Cambridge   \n",
      "1      Auto Theft          1109.0  North Cambridge   \n",
      "2     Hit and Run          1109.0  North Cambridge   \n",
      "3  Larceny (Misc)          1303.0  Strawberry Hill   \n",
      "4             OUI           105.0   East Cambridge   \n",
      "\n",
      "                            Location  \n",
      "0         100 OTIS ST, Cambridge, MA  \n",
      "1      400 RINDGE AVE, Cambridge, MA  \n",
      "2      400 RINDGE AVE, Cambridge, MA  \n",
      "3      0 NORUMBEGA ST, Cambridge, MA  \n",
      "4  FIFTH ST & GORE ST, Cambridge, MA  \n"
     ]
    }
   ],
   "source": [
    "import pandas as pd\n",
    "from geopy.geocoders import Nominatim\n",
    "from geopy.extra.rate_limiter import RateLimiter\n",
    "\n",
    "# Load the CSV file into a pandas DataFrame\n",
    "crime_df = pd.read_csv('Crime.csv')\n",
    "\n",
    "# Initialize Nominatim API\n",
    "geolocator = Nominatim(user_agent=\"eitan\")\n",
    "\n",
    "# Create a rate limiter to avoid exceeding the rate limit\n",
    "geocode = RateLimiter(geolocator.geocode, min_delay_seconds=3)\n",
    "\n",
    "# Function to get latitude and longitude\n",
    "def geocode_location(address):\n",
    "    print(f\"Processing address: {address}\")\n",
    "    location = geocode(address)\n",
    "    if location:\n",
    "        return (location.latitude, location.longitude)\n",
    "    else:\n",
    "        return (None, None)\n",
    "\n",
    "# Apply the function to the 'Location' column\n",
    "# test_df = crime_df.head(5)\n",
    "\n",
    "# test_df['Latitude'], test_df['Longitude'] = zip(*test_df['Location'].apply(get_lat_long))\n",
    "\n",
    "# Remove any duplicate addresses to speed up lat/long process\n",
    "\n",
    "unique_locations = crime_df[['Location']].drop_duplicates()\n",
    "\n",
    "# # Apply the geocoding function to the 'Location' column\n",
    "# unique_locations['Coordinates'] = unique_locations['Location'].apply(geocode_location)\n",
    "\n",
    "# # Split the Coordinates column into Latitude and Longitude columns\n",
    "# unique_locations[['Latitude', 'Longitude']] = pd.DataFrame(unique_locations['Coordinates'].tolist(), index=unique_locations.index)\n",
    "\n",
    "# unique_locations.to_csv('Crime_with_coordinates.csv', index=False)\n",
    "\n",
    "# Display the DataFrame with new columns\n",
    "print(crime_df.head())\n",
    "\n",
    "# Optionally, save the updated DataFrame to a new CSV file\n",
    "# crime_df.to_csv('Crime_with_Lat_Long.csv', index=False)\n"
   ]
  },
  {
   "cell_type": "code",
   "execution_count": 10,
   "metadata": {},
   "outputs": [
    {
     "data": {
      "text/plain": [
       "(5144, 4)"
      ]
     },
     "execution_count": 10,
     "metadata": {},
     "output_type": "execute_result"
    }
   ],
   "source": [
    "coords_df = pd.read_csv('Crime_with_coordinates.csv')\n",
    "coords_df.shape"
   ]
  },
  {
   "cell_type": "code",
   "execution_count": 13,
   "metadata": {},
   "outputs": [
    {
     "ename": "SyntaxError",
     "evalue": "invalid syntax. Maybe you meant '==' or ':=' instead of '='? (1134673192.py, line 17)",
     "output_type": "error",
     "traceback": [
      "\u001b[0;36m  Cell \u001b[0;32mIn[13], line 17\u001b[0;36m\u001b[0m\n\u001b[0;31m    print(merged_df[row=1])\u001b[0m\n\u001b[0m                    ^\u001b[0m\n\u001b[0;31mSyntaxError\u001b[0m\u001b[0;31m:\u001b[0m invalid syntax. Maybe you meant '==' or ':=' instead of '='?\n"
     ]
    }
   ],
   "source": [
    "#Map lat and longitude to each address for crime_df\n",
    "\n",
    "# Load the crime data with coordinates\n",
    "crime_with_coords_df = pd.read_csv('Crime_with_coordinates.csv')\n",
    "\n",
    "# Merge the two DataFrames on the 'Location' column\n",
    "merged_df = pd.merge(crime_df, crime_with_coords_df[['Location', 'Latitude', 'Longitude']], on='Location', how='left')\n",
    "\n",
    "# Save the merged DataFrame to a new CSV file\n",
    "merged_df.to_csv('Merged_Crime_Data.csv', index=False)\n",
    "\n",
    "# Display the first few rows of the merged DataFrame to verify\n",
    "print(merged_df.head(3))\n",
    "\n",
    "merged_df.to_csv('merged.csv')\n",
    "\n"
   ]
  }
 ],
 "metadata": {
  "kernelspec": {
   "display_name": "Python 3",
   "language": "python",
   "name": "python3"
  },
  "language_info": {
   "codemirror_mode": {
    "name": "ipython",
    "version": 3
   },
   "file_extension": ".py",
   "mimetype": "text/x-python",
   "name": "python",
   "nbconvert_exporter": "python",
   "pygments_lexer": "ipython3",
   "version": "3.11.1"
  },
  "orig_nbformat": 4
 },
 "nbformat": 4,
 "nbformat_minor": 2
}
