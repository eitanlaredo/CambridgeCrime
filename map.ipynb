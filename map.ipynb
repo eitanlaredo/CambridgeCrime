{
 "cells": [
  {
   "cell_type": "code",
   "execution_count": 9,
   "metadata": {},
   "outputs": [],
   "source": [
    "# Folium Interactive Map\n",
    "\n",
    "import pandas as pd\n",
    "import folium\n",
    "\n",
    "\n",
    "\n",
    "# Load the CSV file into a pandas DataFrame\n",
    "crime_df = pd.read_csv('merged.csv')\n",
    "\n",
    "# Drop rows where Latitude or Longitude are missing\n",
    "crime_df.dropna(subset=['Latitude', 'Longitude'], inplace=True)\n",
    "\n",
    "# calculate the average of the latitude and longitude to define map center\n",
    "mean_lat = crime_df['Latitude'].mean()\n",
    "mean_lon = crime_df['Longitude'].mean()\n",
    "\n",
    "# creat map centered around the mean latitude and longitude\n",
    "crime_map = folium.Map(location=[mean_lat, mean_lon], zoom_start=12)\n",
    "\n",
    "# Add markers for each crime location\n",
    "for idx, row in crime_df.iterrows():\n",
    "    folium.Marker(\n",
    "        location=[row['Latitude'], row['Longitude']],\n",
    "        popup=row['Crime'],\n",
    "        tooltip=row['Location']\n",
    "    ).add_to(crime_map)\n",
    "\n",
    "\n",
    "\n",
    "\n"
   ]
  },
  {
   "cell_type": "code",
   "execution_count": 10,
   "metadata": {},
   "outputs": [
    {
     "data": {
      "text/plain": [
       "True"
      ]
     },
     "execution_count": 10,
     "metadata": {},
     "output_type": "execute_result"
    }
   ],
   "source": [
    "map_file = 'Crime_Map.html'\n",
    "crime_map.save(map_file)\n",
    "webbrowser.open('file://' + os.path.realpath(map_file))"
   ]
  }
 ],
 "metadata": {
  "kernelspec": {
   "display_name": "Python 3",
   "language": "python",
   "name": "python3"
  },
  "language_info": {
   "codemirror_mode": {
    "name": "ipython",
    "version": 3
   },
   "file_extension": ".py",
   "mimetype": "text/x-python",
   "name": "python",
   "nbconvert_exporter": "python",
   "pygments_lexer": "ipython3",
   "version": "3.11.1"
  },
  "orig_nbformat": 4
 },
 "nbformat": 4,
 "nbformat_minor": 2
}
